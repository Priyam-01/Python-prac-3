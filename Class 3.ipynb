{
 "cells": [
  {
   "cell_type": "code",
   "execution_count": 1,
   "id": "9b13c76a",
   "metadata": {},
   "outputs": [],
   "source": [
    "#Index"
   ]
  },
  {
   "cell_type": "code",
   "execution_count": 3,
   "id": "87eea5a0",
   "metadata": {},
   "outputs": [
    {
     "name": "stdout",
     "output_type": "stream",
     "text": [
      "H\n",
      "P\n"
     ]
    }
   ],
   "source": [
    "a=\"Hello Python\"\n",
    "print(a[0])\n",
    "print(a[6])"
   ]
  },
  {
   "cell_type": "code",
   "execution_count": 4,
   "id": "3a0fd0d8",
   "metadata": {},
   "outputs": [],
   "source": [
    "#Starts and end"
   ]
  },
  {
   "cell_type": "code",
   "execution_count": 5,
   "id": "676ecb21",
   "metadata": {},
   "outputs": [
    {
     "name": "stdout",
     "output_type": "stream",
     "text": [
      "Hello\n",
      "lo P\n"
     ]
    }
   ],
   "source": [
    "print(a[0:5])\n",
    "print(a[3:7])"
   ]
  },
  {
   "cell_type": "code",
   "execution_count": 6,
   "id": "35727884",
   "metadata": {},
   "outputs": [],
   "source": [
    "#Starts and End interval"
   ]
  },
  {
   "cell_type": "code",
   "execution_count": 8,
   "id": "63df1ea8",
   "metadata": {},
   "outputs": [
    {
     "name": "stdout",
     "output_type": "stream",
     "text": [
      "Hello Python\n",
      "Hello Python\n",
      "HloPto\n",
      "HlPh\n"
     ]
    }
   ],
   "source": [
    "print(a[:])\n",
    "print(a[::1])\n",
    "print(a[::2])\n",
    "print(a[::3])"
   ]
  },
  {
   "cell_type": "code",
   "execution_count": 9,
   "id": "205c21c5",
   "metadata": {},
   "outputs": [],
   "source": [
    "#Reverse String"
   ]
  },
  {
   "cell_type": "code",
   "execution_count": 10,
   "id": "5775ef26",
   "metadata": {},
   "outputs": [
    {
     "name": "stdout",
     "output_type": "stream",
     "text": [
      "n\n"
     ]
    }
   ],
   "source": [
    "a=\"Hello Python\"\n",
    "print(a[-1])"
   ]
  },
  {
   "cell_type": "code",
   "execution_count": 11,
   "id": "eb6e81b2",
   "metadata": {},
   "outputs": [],
   "source": [
    "#Reverse String"
   ]
  },
  {
   "cell_type": "code",
   "execution_count": 14,
   "id": "ed101099",
   "metadata": {},
   "outputs": [
    {
     "name": "stdout",
     "output_type": "stream",
     "text": [
      "nohtyP olleH\n"
     ]
    }
   ],
   "source": [
    "a =\"Hello Python\"\n",
    "print(a[::-1])"
   ]
  },
  {
   "cell_type": "code",
   "execution_count": 15,
   "id": "c9a5ddd6",
   "metadata": {},
   "outputs": [],
   "source": [
    "#Indexes"
   ]
  },
  {
   "cell_type": "code",
   "execution_count": 16,
   "id": "7d516fae",
   "metadata": {},
   "outputs": [],
   "source": [
    "a =\"Hello Python\""
   ]
  },
  {
   "cell_type": "code",
   "execution_count": 20,
   "id": "717b51a2",
   "metadata": {},
   "outputs": [
    {
     "name": "stdout",
     "output_type": "stream",
     "text": [
      "0\n",
      "4\n",
      "5\n",
      "4\n",
      "4\n"
     ]
    }
   ],
   "source": [
    "print(a.index(\"H\"))\n",
    "print(a.index(\"o\"))\n",
    "print(a.index(\" \"))\n",
    "print(a.index(\"o\",2))\n",
    "print(a.index(\"o\",2,7))\n"
   ]
  },
  {
   "cell_type": "code",
   "execution_count": 22,
   "id": "3039b543",
   "metadata": {},
   "outputs": [
    {
     "name": "stdout",
     "output_type": "stream",
     "text": [
      "10\n",
      "8\n"
     ]
    }
   ],
   "source": [
    "print(a.rindex(\"o\"))\n",
    "print(a.rindex(\"t\"))"
   ]
  },
  {
   "cell_type": "code",
   "execution_count": 23,
   "id": "f4ded709",
   "metadata": {},
   "outputs": [
    {
     "name": "stdout",
     "output_type": "stream",
     "text": [
      "7\n",
      "7\n",
      "9\n"
     ]
    }
   ],
   "source": [
    "print(a.index(\"y\"))\n",
    "print(a.index(\"y\", 3))\n",
    "print(a.index(\"h\", 2))"
   ]
  },
  {
   "cell_type": "code",
   "execution_count": 24,
   "id": "0d8dd1c3",
   "metadata": {},
   "outputs": [],
   "source": [
    "# Index and find"
   ]
  },
  {
   "cell_type": "code",
   "execution_count": 26,
   "id": "ef3a7284",
   "metadata": {},
   "outputs": [
    {
     "name": "stdout",
     "output_type": "stream",
     "text": [
      "7\n",
      "7\n"
     ]
    }
   ],
   "source": [
    "print(a.index(\"y\"))\n",
    "print(a.find(\"y\"))"
   ]
  },
  {
   "cell_type": "code",
   "execution_count": 27,
   "id": "955a92ff",
   "metadata": {},
   "outputs": [
    {
     "ename": "ValueError",
     "evalue": "substring not found",
     "output_type": "error",
     "traceback": [
      "\u001b[1;31m---------------------------------------------------------------------------\u001b[0m",
      "\u001b[1;31mValueError\u001b[0m                                Traceback (most recent call last)",
      "Cell \u001b[1;32mIn[27], line 1\u001b[0m\n\u001b[1;32m----> 1\u001b[0m \u001b[38;5;28mprint\u001b[39m(a\u001b[38;5;241m.\u001b[39mindex(\u001b[38;5;124m\"\u001b[39m\u001b[38;5;124mz\u001b[39m\u001b[38;5;124m\"\u001b[39m))\n",
      "\u001b[1;31mValueError\u001b[0m: substring not found"
     ]
    }
   ],
   "source": [
    "print(a.index(\"z\"))"
   ]
  },
  {
   "cell_type": "code",
   "execution_count": 28,
   "id": "8d2397ab",
   "metadata": {},
   "outputs": [
    {
     "name": "stdout",
     "output_type": "stream",
     "text": [
      "-1\n"
     ]
    }
   ],
   "source": [
    "print(a.find(\"z\"))"
   ]
  },
  {
   "cell_type": "code",
   "execution_count": 29,
   "id": "43bf1458",
   "metadata": {},
   "outputs": [
    {
     "name": "stdout",
     "output_type": "stream",
     "text": [
      "6\n",
      "6\n"
     ]
    }
   ],
   "source": [
    "print(a.rindex(\"P\"))\n",
    "print(a.rindex(\"P\"))"
   ]
  },
  {
   "cell_type": "code",
   "execution_count": 30,
   "id": "50bb819c",
   "metadata": {},
   "outputs": [
    {
     "ename": "ValueError",
     "evalue": "substring not found",
     "output_type": "error",
     "traceback": [
      "\u001b[1;31m---------------------------------------------------------------------------\u001b[0m",
      "\u001b[1;31mValueError\u001b[0m                                Traceback (most recent call last)",
      "Cell \u001b[1;32mIn[30], line 1\u001b[0m\n\u001b[1;32m----> 1\u001b[0m \u001b[38;5;28mprint\u001b[39m(a\u001b[38;5;241m.\u001b[39mrindex(\u001b[38;5;124m\"\u001b[39m\u001b[38;5;124mz\u001b[39m\u001b[38;5;124m\"\u001b[39m))\n",
      "\u001b[1;31mValueError\u001b[0m: substring not found"
     ]
    }
   ],
   "source": [
    "print(a.rindex(\"z\"))"
   ]
  },
  {
   "cell_type": "code",
   "execution_count": 32,
   "id": "6b56df2d",
   "metadata": {},
   "outputs": [
    {
     "name": "stdout",
     "output_type": "stream",
     "text": [
      "-1\n"
     ]
    }
   ],
   "source": [
    "print(a.rfind(\"z\"))"
   ]
  },
  {
   "cell_type": "code",
   "execution_count": 33,
   "id": "84a94c3f",
   "metadata": {},
   "outputs": [],
   "source": [
    "#Remove space"
   ]
  },
  {
   "cell_type": "code",
   "execution_count": 36,
   "id": "cbe6f11b",
   "metadata": {},
   "outputs": [
    {
     "name": "stdout",
     "output_type": "stream",
     "text": [
      "Hello   Python\n",
      " Hello   Python\n",
      "Hello   Python \n",
      " Hello Python \n"
     ]
    }
   ],
   "source": [
    "a = \" Hello   Python \"\n",
    "print(a.strip())\n",
    "print(a.rstrip())\n",
    "print(a.lstrip())\n",
    "print(a.replace(\"   \", \" \"))"
   ]
  },
  {
   "cell_type": "markdown",
   "id": "1289035b",
   "metadata": {},
   "source": [
    "# Assignment\n",
    "#a = \"dhoni\"\n",
    "\n",
    "## get last letter i - without using reverse index [-1]"
   ]
  },
  {
   "cell_type": "code",
   "execution_count": 39,
   "id": "6ef768d6",
   "metadata": {},
   "outputs": [
    {
     "ename": "SyntaxError",
     "evalue": "invalid syntax (3861007903.py, line 3)",
     "output_type": "error",
     "traceback": [
      "\u001b[1;36m  Cell \u001b[1;32mIn[39], line 3\u001b[1;36m\u001b[0m\n\u001b[1;33m    print(a.(-len(a)))\u001b[0m\n\u001b[1;37m            ^\u001b[0m\n\u001b[1;31mSyntaxError\u001b[0m\u001b[1;31m:\u001b[0m invalid syntax\n"
     ]
    }
   ],
   "source": [
    "a =\"dhoni\"\n",
    "\n",
    "print(a.(-len(a)))"
   ]
  },
  {
   "cell_type": "code",
   "execution_count": 8,
   "id": "11c92857",
   "metadata": {},
   "outputs": [
    {
     "name": "stdout",
     "output_type": "stream",
     "text": [
      "[-5]\n"
     ]
    }
   ],
   "source": [
    "print([-len(a)])"
   ]
  },
  {
   "cell_type": "code",
   "execution_count": 9,
   "id": "44084a3b",
   "metadata": {},
   "outputs": [
    {
     "ename": "TypeError",
     "evalue": "'str' object is not callable",
     "output_type": "error",
     "traceback": [
      "\u001b[1;31m---------------------------------------------------------------------------\u001b[0m",
      "\u001b[1;31mTypeError\u001b[0m                                 Traceback (most recent call last)",
      "Cell \u001b[1;32mIn[9], line 2\u001b[0m\n\u001b[0;32m      1\u001b[0m a \u001b[38;5;241m=\u001b[39m\u001b[38;5;124m\"\u001b[39m\u001b[38;5;124mdhoni\u001b[39m\u001b[38;5;124m\"\u001b[39m\n\u001b[1;32m----> 2\u001b[0m last_letter \u001b[38;5;241m=\u001b[39m a([\u001b[38;5;241m-\u001b[39m\u001b[38;5;28mlen\u001b[39m(a)])\n\u001b[0;32m      3\u001b[0m \u001b[38;5;28mprint\u001b[39m(last_letter)\n",
      "\u001b[1;31mTypeError\u001b[0m: 'str' object is not callable"
     ]
    }
   ],
   "source": [
    "a =\"dhoni\"\n",
    "last_letter = a([-len(a)])\n",
    "print(last_letter)\n"
   ]
  },
  {
   "cell_type": "code",
   "execution_count": 10,
   "id": "725b2003",
   "metadata": {},
   "outputs": [
    {
     "name": "stdout",
     "output_type": "stream",
     "text": [
      "i\n"
     ]
    }
   ],
   "source": [
    "print(a[len(a) -1])"
   ]
  },
  {
   "cell_type": "code",
   "execution_count": null,
   "id": "641bfa53",
   "metadata": {},
   "outputs": [],
   "source": []
  }
 ],
 "metadata": {
  "kernelspec": {
   "display_name": "Python 3 (ipykernel)",
   "language": "python",
   "name": "python3"
  },
  "language_info": {
   "codemirror_mode": {
    "name": "ipython",
    "version": 3
   },
   "file_extension": ".py",
   "mimetype": "text/x-python",
   "name": "python",
   "nbconvert_exporter": "python",
   "pygments_lexer": "ipython3",
   "version": "3.11.5"
  }
 },
 "nbformat": 4,
 "nbformat_minor": 5
}
